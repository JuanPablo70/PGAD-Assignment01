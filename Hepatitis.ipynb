{
 "cells": [
  {
   "cell_type": "markdown",
   "id": "73baec70",
   "metadata": {},
   "source": [
    "## Escuela Colombiana de Ingeniería Julio Garavito\n",
    "\n",
    "### Programming for Data Analysis\n",
    "\n",
    "### Author\n",
    "\n",
    "Juan Pablo Sánchez Bermúdez"
   ]
  },
  {
   "cell_type": "code",
   "execution_count": 96,
   "id": "36fe05f0",
   "metadata": {},
   "outputs": [],
   "source": [
    "# Imports\n",
    "import pandas as pd"
   ]
  },
  {
   "cell_type": "markdown",
   "id": "345ecdd9",
   "metadata": {},
   "source": [
    "# Hepatitis Data Set\n",
    "\n",
    "### 1. Selecting Data Set\n",
    "I chose the Hepatitis data set from the UC Irvine Machine Learning Repository [Hepatitis](https://archive.ics.uci.edu/ml/machine-learning-databases/hepatitis/).\n",
    "\n",
    "### 2. Loading data\n",
    "Now that I have the data set, let's proceed to download it and load it into this notebook in a DataFrame type variable:"
   ]
  },
  {
   "cell_type": "code",
   "execution_count": 97,
   "id": "b76d8800",
   "metadata": {
    "scrolled": true
   },
   "outputs": [
    {
     "data": {
      "text/html": [
       "<div>\n",
       "<style scoped>\n",
       "    .dataframe tbody tr th:only-of-type {\n",
       "        vertical-align: middle;\n",
       "    }\n",
       "\n",
       "    .dataframe tbody tr th {\n",
       "        vertical-align: top;\n",
       "    }\n",
       "\n",
       "    .dataframe thead th {\n",
       "        text-align: right;\n",
       "    }\n",
       "</style>\n",
       "<table border=\"1\" class=\"dataframe\">\n",
       "  <thead>\n",
       "    <tr style=\"text-align: right;\">\n",
       "      <th></th>\n",
       "      <th>State</th>\n",
       "      <th>Age</th>\n",
       "      <th>Sex</th>\n",
       "      <th>Steroid</th>\n",
       "      <th>Antivirals</th>\n",
       "      <th>Fatigue</th>\n",
       "      <th>Malaise</th>\n",
       "      <th>Anorexia</th>\n",
       "      <th>Liver Big</th>\n",
       "      <th>Liver Firm</th>\n",
       "      <th>Spleen Palpable</th>\n",
       "      <th>Spiders</th>\n",
       "      <th>Ascites</th>\n",
       "      <th>Varices</th>\n",
       "      <th>Bilirubin</th>\n",
       "      <th>Alk Phosphate</th>\n",
       "      <th>Sgot</th>\n",
       "      <th>Albumin</th>\n",
       "      <th>Protime</th>\n",
       "      <th>Histology</th>\n",
       "    </tr>\n",
       "  </thead>\n",
       "  <tbody>\n",
       "    <tr>\n",
       "      <th>0</th>\n",
       "      <td>2</td>\n",
       "      <td>30</td>\n",
       "      <td>2</td>\n",
       "      <td>1</td>\n",
       "      <td>2</td>\n",
       "      <td>2</td>\n",
       "      <td>2</td>\n",
       "      <td>2</td>\n",
       "      <td>1</td>\n",
       "      <td>2</td>\n",
       "      <td>2</td>\n",
       "      <td>2</td>\n",
       "      <td>2</td>\n",
       "      <td>2</td>\n",
       "      <td>1.00</td>\n",
       "      <td>85</td>\n",
       "      <td>18</td>\n",
       "      <td>4.0</td>\n",
       "      <td>?</td>\n",
       "      <td>1</td>\n",
       "    </tr>\n",
       "    <tr>\n",
       "      <th>1</th>\n",
       "      <td>2</td>\n",
       "      <td>50</td>\n",
       "      <td>1</td>\n",
       "      <td>1</td>\n",
       "      <td>2</td>\n",
       "      <td>1</td>\n",
       "      <td>2</td>\n",
       "      <td>2</td>\n",
       "      <td>1</td>\n",
       "      <td>2</td>\n",
       "      <td>2</td>\n",
       "      <td>2</td>\n",
       "      <td>2</td>\n",
       "      <td>2</td>\n",
       "      <td>0.90</td>\n",
       "      <td>135</td>\n",
       "      <td>42</td>\n",
       "      <td>3.5</td>\n",
       "      <td>?</td>\n",
       "      <td>1</td>\n",
       "    </tr>\n",
       "    <tr>\n",
       "      <th>2</th>\n",
       "      <td>2</td>\n",
       "      <td>78</td>\n",
       "      <td>1</td>\n",
       "      <td>2</td>\n",
       "      <td>2</td>\n",
       "      <td>1</td>\n",
       "      <td>2</td>\n",
       "      <td>2</td>\n",
       "      <td>2</td>\n",
       "      <td>2</td>\n",
       "      <td>2</td>\n",
       "      <td>2</td>\n",
       "      <td>2</td>\n",
       "      <td>2</td>\n",
       "      <td>0.70</td>\n",
       "      <td>96</td>\n",
       "      <td>32</td>\n",
       "      <td>4.0</td>\n",
       "      <td>?</td>\n",
       "      <td>1</td>\n",
       "    </tr>\n",
       "    <tr>\n",
       "      <th>3</th>\n",
       "      <td>2</td>\n",
       "      <td>31</td>\n",
       "      <td>1</td>\n",
       "      <td>?</td>\n",
       "      <td>1</td>\n",
       "      <td>2</td>\n",
       "      <td>2</td>\n",
       "      <td>2</td>\n",
       "      <td>2</td>\n",
       "      <td>2</td>\n",
       "      <td>2</td>\n",
       "      <td>2</td>\n",
       "      <td>2</td>\n",
       "      <td>2</td>\n",
       "      <td>0.70</td>\n",
       "      <td>46</td>\n",
       "      <td>52</td>\n",
       "      <td>4.0</td>\n",
       "      <td>80</td>\n",
       "      <td>1</td>\n",
       "    </tr>\n",
       "    <tr>\n",
       "      <th>4</th>\n",
       "      <td>2</td>\n",
       "      <td>34</td>\n",
       "      <td>1</td>\n",
       "      <td>2</td>\n",
       "      <td>2</td>\n",
       "      <td>2</td>\n",
       "      <td>2</td>\n",
       "      <td>2</td>\n",
       "      <td>2</td>\n",
       "      <td>2</td>\n",
       "      <td>2</td>\n",
       "      <td>2</td>\n",
       "      <td>2</td>\n",
       "      <td>2</td>\n",
       "      <td>1.00</td>\n",
       "      <td>?</td>\n",
       "      <td>200</td>\n",
       "      <td>4.0</td>\n",
       "      <td>?</td>\n",
       "      <td>1</td>\n",
       "    </tr>\n",
       "  </tbody>\n",
       "</table>\n",
       "</div>"
      ],
      "text/plain": [
       "   State  Age  Sex Steroid  Antivirals Fatigue Malaise Anorexia Liver Big  \\\n",
       "0      2   30    2       1           2       2       2        2         1   \n",
       "1      2   50    1       1           2       1       2        2         1   \n",
       "2      2   78    1       2           2       1       2        2         2   \n",
       "3      2   31    1       ?           1       2       2        2         2   \n",
       "4      2   34    1       2           2       2       2        2         2   \n",
       "\n",
       "  Liver Firm Spleen Palpable Spiders Ascites Varices Bilirubin Alk Phosphate  \\\n",
       "0          2               2       2       2       2      1.00            85   \n",
       "1          2               2       2       2       2      0.90           135   \n",
       "2          2               2       2       2       2      0.70            96   \n",
       "3          2               2       2       2       2      0.70            46   \n",
       "4          2               2       2       2       2      1.00             ?   \n",
       "\n",
       "  Sgot Albumin Protime  Histology  \n",
       "0   18     4.0       ?          1  \n",
       "1   42     3.5       ?          1  \n",
       "2   32     4.0       ?          1  \n",
       "3   52     4.0      80          1  \n",
       "4  200     4.0       ?          1  "
      ]
     },
     "execution_count": 97,
     "metadata": {},
     "output_type": "execute_result"
    }
   ],
   "source": [
    "# Data set url\n",
    "path = 'https://archive.ics.uci.edu/ml/machine-learning-databases/hepatitis/hepatitis.data'\n",
    "\n",
    "# Set columns names to the data set according to hepatitis.names\n",
    "columnsNames = ['State', 'Age', 'Sex', 'Steroid', 'Antivirals', 'Fatigue', 'Malaise', 'Anorexia', 'Liver Big', 'Liver Firm', 'Spleen Palpable', 'Spiders', 'Ascites', 'Varices', 'Bilirubin', 'Alk Phosphate', 'Sgot', 'Albumin', 'Protime', 'Histology']\n",
    "\n",
    "# Read data from CSV file\n",
    "dataFrame = pd.read_csv(path, names = columnsNames)\n",
    "dataFrame.head()"
   ]
  },
  {
   "cell_type": "markdown",
   "id": "5db160dd",
   "metadata": {},
   "source": [
    "According to the data set, ```1``` means 'No' and ```2``` means 'Yes', except for the **State column** which ```1``` means 'Dead' and ```2``` means 'Alive' and for the **Sex Column** which ```1``` means 'Male' and ```2``` means 'Female'.\n",
    "\n",
    "### 3. Data Transformation and Discretization\n",
    "\n",
    "The following function takes the data frame created above and normalize its columns according to the argument the user choose between ```standar``` or ```scale```."
   ]
  },
  {
   "cell_type": "code",
   "execution_count": 98,
   "id": "5e3e4fcb",
   "metadata": {},
   "outputs": [],
   "source": [
    "def normalization(argument):\n",
    "    if argument.lower() == \"standar\":\n",
    "        print(\"well\")\n",
    "    elif argument.lower() == \"scale\":\n",
    "        print(\"Well\")\n",
    "    else:\n",
    "        print(\"dsfsf\")\n",
    "        "
   ]
  },
  {
   "cell_type": "code",
   "execution_count": 99,
   "id": "5d500da7",
   "metadata": {},
   "outputs": [
    {
     "name": "stdout",
     "output_type": "stream",
     "text": [
      "well\n",
      "-----------------\n",
      "Well\n"
     ]
    }
   ],
   "source": [
    "normalization(\"standar\")\n",
    "print(\"-----------------\")\n",
    "normalization(\"scale\")"
   ]
  },
  {
   "cell_type": "markdown",
   "id": "51a32660",
   "metadata": {},
   "source": [
    "### 4. Cleaning and manipulating data\n",
    "\n",
    "#### Exploring the Hepatitis data set\n",
    "\n",
    "+ Complete records"
   ]
  },
  {
   "cell_type": "code",
   "execution_count": 100,
   "id": "dd642ac9",
   "metadata": {},
   "outputs": [],
   "source": [
    "def completeRecords(df):\n",
    "    size = df.shape\n",
    "    rows = size[0]\n",
    "    columns = size[1]\n",
    "    records = 0\n",
    "    status = True\n",
    "    for row in range(rows):\n",
    "        for column in range(columns):\n",
    "            if df.iloc[row, column] == '?':\n",
    "                status = False\n",
    "                break\n",
    "        if status:\n",
    "            records += 1\n",
    "        status = True\n",
    "    return records"
   ]
  },
  {
   "cell_type": "code",
   "execution_count": 101,
   "id": "4e831021",
   "metadata": {},
   "outputs": [
    {
     "name": "stdout",
     "output_type": "stream",
     "text": [
      "Number of complete records in Hepatitis data set: 80\n"
     ]
    }
   ],
   "source": [
    "print(\"Number of complete records in Hepatitis data set:\", completeRecords(dataFrame))"
   ]
  },
  {
   "cell_type": "markdown",
   "id": "8bd12c5a",
   "metadata": {},
   "source": [
    "+ Missing data"
   ]
  },
  {
   "cell_type": "code",
   "execution_count": 114,
   "id": "53bd10bf",
   "metadata": {},
   "outputs": [],
   "source": [
    "def missingData(df):\n",
    "    size = df.shape\n",
    "    rows = size[0]\n",
    "    columns = size[1]\n",
    "    missing = 0\n",
    "    for row in range(rows):\n",
    "        for column in range(columns):\n",
    "            if df.iloc[row, column] == '?':\n",
    "                missing += 1\n",
    "    return missing"
   ]
  },
  {
   "cell_type": "code",
   "execution_count": 115,
   "id": "c10495fa",
   "metadata": {},
   "outputs": [
    {
     "name": "stdout",
     "output_type": "stream",
     "text": [
      "Number of missing values in Hepatitis data set: 167\n"
     ]
    }
   ],
   "source": [
    "print(\"Number of missing values in Hepatitis data set:\", missingData(dataFrame))"
   ]
  },
  {
   "cell_type": "markdown",
   "id": "9a3a1406",
   "metadata": {},
   "source": [
    "+ Data types of the dataset"
   ]
  },
  {
   "cell_type": "code",
   "execution_count": 104,
   "id": "0c792140",
   "metadata": {},
   "outputs": [
    {
     "data": {
      "text/plain": [
       "State               int64\n",
       "Age                 int64\n",
       "Sex                 int64\n",
       "Steroid            object\n",
       "Antivirals          int64\n",
       "Fatigue            object\n",
       "Malaise            object\n",
       "Anorexia           object\n",
       "Liver Big          object\n",
       "Liver Firm         object\n",
       "Spleen Palpable    object\n",
       "Spiders            object\n",
       "Ascites            object\n",
       "Varices            object\n",
       "Bilirubin          object\n",
       "Alk Phosphate      object\n",
       "Sgot               object\n",
       "Albumin            object\n",
       "Protime            object\n",
       "Histology           int64\n",
       "dtype: object"
      ]
     },
     "execution_count": 104,
     "metadata": {},
     "output_type": "execute_result"
    }
   ],
   "source": [
    "dataFrame.dtypes"
   ]
  },
  {
   "cell_type": "markdown",
   "id": "ec02252b",
   "metadata": {},
   "source": [
    "+ Statistical description of some metrics for the dataset variables"
   ]
  },
  {
   "cell_type": "code",
   "execution_count": 105,
   "id": "174cced4",
   "metadata": {},
   "outputs": [
    {
     "data": {
      "text/html": [
       "<div>\n",
       "<style scoped>\n",
       "    .dataframe tbody tr th:only-of-type {\n",
       "        vertical-align: middle;\n",
       "    }\n",
       "\n",
       "    .dataframe tbody tr th {\n",
       "        vertical-align: top;\n",
       "    }\n",
       "\n",
       "    .dataframe thead th {\n",
       "        text-align: right;\n",
       "    }\n",
       "</style>\n",
       "<table border=\"1\" class=\"dataframe\">\n",
       "  <thead>\n",
       "    <tr style=\"text-align: right;\">\n",
       "      <th></th>\n",
       "      <th>State</th>\n",
       "      <th>Age</th>\n",
       "      <th>Sex</th>\n",
       "      <th>Antivirals</th>\n",
       "      <th>Histology</th>\n",
       "    </tr>\n",
       "  </thead>\n",
       "  <tbody>\n",
       "    <tr>\n",
       "      <th>count</th>\n",
       "      <td>155.000000</td>\n",
       "      <td>155.000000</td>\n",
       "      <td>155.000000</td>\n",
       "      <td>155.000000</td>\n",
       "      <td>155.000000</td>\n",
       "    </tr>\n",
       "    <tr>\n",
       "      <th>mean</th>\n",
       "      <td>1.793548</td>\n",
       "      <td>41.200000</td>\n",
       "      <td>1.103226</td>\n",
       "      <td>1.845161</td>\n",
       "      <td>1.451613</td>\n",
       "    </tr>\n",
       "    <tr>\n",
       "      <th>std</th>\n",
       "      <td>0.406070</td>\n",
       "      <td>12.565878</td>\n",
       "      <td>0.305240</td>\n",
       "      <td>0.362923</td>\n",
       "      <td>0.499266</td>\n",
       "    </tr>\n",
       "    <tr>\n",
       "      <th>min</th>\n",
       "      <td>1.000000</td>\n",
       "      <td>7.000000</td>\n",
       "      <td>1.000000</td>\n",
       "      <td>1.000000</td>\n",
       "      <td>1.000000</td>\n",
       "    </tr>\n",
       "    <tr>\n",
       "      <th>25%</th>\n",
       "      <td>2.000000</td>\n",
       "      <td>32.000000</td>\n",
       "      <td>1.000000</td>\n",
       "      <td>2.000000</td>\n",
       "      <td>1.000000</td>\n",
       "    </tr>\n",
       "    <tr>\n",
       "      <th>50%</th>\n",
       "      <td>2.000000</td>\n",
       "      <td>39.000000</td>\n",
       "      <td>1.000000</td>\n",
       "      <td>2.000000</td>\n",
       "      <td>1.000000</td>\n",
       "    </tr>\n",
       "    <tr>\n",
       "      <th>75%</th>\n",
       "      <td>2.000000</td>\n",
       "      <td>50.000000</td>\n",
       "      <td>1.000000</td>\n",
       "      <td>2.000000</td>\n",
       "      <td>2.000000</td>\n",
       "    </tr>\n",
       "    <tr>\n",
       "      <th>max</th>\n",
       "      <td>2.000000</td>\n",
       "      <td>78.000000</td>\n",
       "      <td>2.000000</td>\n",
       "      <td>2.000000</td>\n",
       "      <td>2.000000</td>\n",
       "    </tr>\n",
       "  </tbody>\n",
       "</table>\n",
       "</div>"
      ],
      "text/plain": [
       "            State         Age         Sex  Antivirals   Histology\n",
       "count  155.000000  155.000000  155.000000  155.000000  155.000000\n",
       "mean     1.793548   41.200000    1.103226    1.845161    1.451613\n",
       "std      0.406070   12.565878    0.305240    0.362923    0.499266\n",
       "min      1.000000    7.000000    1.000000    1.000000    1.000000\n",
       "25%      2.000000   32.000000    1.000000    2.000000    1.000000\n",
       "50%      2.000000   39.000000    1.000000    2.000000    1.000000\n",
       "75%      2.000000   50.000000    1.000000    2.000000    2.000000\n",
       "max      2.000000   78.000000    2.000000    2.000000    2.000000"
      ]
     },
     "execution_count": 105,
     "metadata": {},
     "output_type": "execute_result"
    }
   ],
   "source": [
    "dataFrame.describe()"
   ]
  },
  {
   "cell_type": "code",
   "execution_count": 111,
   "id": "6c0eef2d",
   "metadata": {},
   "outputs": [
    {
     "data": {
      "text/plain": [
       "32"
      ]
     },
     "execution_count": 111,
     "metadata": {},
     "output_type": "execute_result"
    }
   ],
   "source": [
    "# Number of patients who died from hepatitis\n",
    "dataFrame[dataFrame.State == 1].shape[0]"
   ]
  },
  {
   "cell_type": "code",
   "execution_count": 113,
   "id": "3900640f",
   "metadata": {},
   "outputs": [
    {
     "data": {
      "text/plain": [
       "139"
      ]
     },
     "execution_count": 113,
     "metadata": {},
     "output_type": "execute_result"
    }
   ],
   "source": [
    "# Number of patients who are male\n",
    "dataFrame[dataFrame.Sex == 1].shape[0]"
   ]
  },
  {
   "cell_type": "markdown",
   "id": "793c9f23",
   "metadata": {},
   "source": [
    "#### Knowing that there is missing data according to the ```missingData(df)``` function and each attribute is numeric, I will replace the missing values (?) using a global constant 0 to represent 'Unknown'"
   ]
  },
  {
   "cell_type": "code",
   "execution_count": null,
   "id": "d96c88d4",
   "metadata": {},
   "outputs": [],
   "source": []
  }
 ],
 "metadata": {
  "kernelspec": {
   "display_name": "Python 3 (ipykernel)",
   "language": "python",
   "name": "python3"
  },
  "language_info": {
   "codemirror_mode": {
    "name": "ipython",
    "version": 3
   },
   "file_extension": ".py",
   "mimetype": "text/x-python",
   "name": "python",
   "nbconvert_exporter": "python",
   "pygments_lexer": "ipython3",
   "version": "3.11.1"
  }
 },
 "nbformat": 4,
 "nbformat_minor": 5
}
